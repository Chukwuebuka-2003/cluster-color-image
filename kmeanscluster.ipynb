{
 "cells": [
  {
   "cell_type": "markdown",
   "id": "dab08fdd-ff2e-4e04-93ca-52964191774d",
   "metadata": {},
   "source": [
    "# HOW TO FIND THE DOMINANT COLOURS IN AN IMAGE USING SCIPY AND CLUSTERING"
   ]
  },
  {
   "cell_type": "markdown",
   "id": "2962053e-a8cd-4cde-a5fe-d3f2a42d26ef",
   "metadata": {},
   "source": [
    "Color clustering and scaling are essential processes in image processing and data analysis. In this code example, I will demonstrate how to cluster colors in an image and then scale them using the K-Means algorithm."
   ]
  },
  {
   "cell_type": "markdown",
   "id": "a01c43b3-1ba2-420f-adf6-c627363fc3f2",
   "metadata": {},
   "source": [
    "## Importing the image"
   ]
  },
  {
   "cell_type": "code",
   "execution_count": 28,
   "id": "367edbad-fcb3-4a19-a24c-8b669959d22f",
   "metadata": {
    "scrolled": true
   },
   "outputs": [
    {
     "data": {
      "text/plain": [
       "(1152, 768, 3)"
      ]
     },
     "execution_count": 28,
     "metadata": {},
     "output_type": "execute_result"
    }
   ],
   "source": [
    "import matplotlib.image as img\n",
    "image = img.imread('nio.jpeg')\n",
    "image.shape"
   ]
  },
  {
   "cell_type": "markdown",
   "id": "aa707be9-79d8-418a-94dc-cf7d0ed56a2d",
   "metadata": {},
   "source": [
    "This code block will now initialize empty lists for red (r), green (g), and blue (b) color values. \n",
    "\n",
    "It iterates over the image's rows and pixels, extracting the red, green, and blue components of each pixel and appending them to their respective lists.\n",
    "\n",
    "A DataFrame named pixels is created with three columns: 'red', 'green', and 'blue', using the extracted color values."
   ]
  },
  {
   "cell_type": "code",
   "execution_count": 29,
   "id": "7286ee6e-7bd6-476f-ac11-0ebc126b45e7",
   "metadata": {},
   "outputs": [
    {
     "data": {
      "text/html": [
       "<div>\n",
       "<style scoped>\n",
       "    .dataframe tbody tr th:only-of-type {\n",
       "        vertical-align: middle;\n",
       "    }\n",
       "\n",
       "    .dataframe tbody tr th {\n",
       "        vertical-align: top;\n",
       "    }\n",
       "\n",
       "    .dataframe thead th {\n",
       "        text-align: right;\n",
       "    }\n",
       "</style>\n",
       "<table border=\"1\" class=\"dataframe\">\n",
       "  <thead>\n",
       "    <tr style=\"text-align: right;\">\n",
       "      <th></th>\n",
       "      <th>red</th>\n",
       "      <th>green</th>\n",
       "      <th>blue</th>\n",
       "    </tr>\n",
       "  </thead>\n",
       "  <tbody>\n",
       "    <tr>\n",
       "      <th>0</th>\n",
       "      <td>9</td>\n",
       "      <td>10</td>\n",
       "      <td>12</td>\n",
       "    </tr>\n",
       "    <tr>\n",
       "      <th>1</th>\n",
       "      <td>9</td>\n",
       "      <td>10</td>\n",
       "      <td>14</td>\n",
       "    </tr>\n",
       "    <tr>\n",
       "      <th>2</th>\n",
       "      <td>9</td>\n",
       "      <td>10</td>\n",
       "      <td>15</td>\n",
       "    </tr>\n",
       "    <tr>\n",
       "      <th>3</th>\n",
       "      <td>10</td>\n",
       "      <td>11</td>\n",
       "      <td>15</td>\n",
       "    </tr>\n",
       "    <tr>\n",
       "      <th>4</th>\n",
       "      <td>10</td>\n",
       "      <td>11</td>\n",
       "      <td>15</td>\n",
       "    </tr>\n",
       "  </tbody>\n",
       "</table>\n",
       "</div>"
      ],
      "text/plain": [
       "   red  green  blue\n",
       "0    9     10    12\n",
       "1    9     10    14\n",
       "2    9     10    15\n",
       "3   10     11    15\n",
       "4   10     11    15"
      ]
     },
     "execution_count": 29,
     "metadata": {},
     "output_type": "execute_result"
    }
   ],
   "source": [
    "import pandas as pd\n",
    "r = []\n",
    "g = []\n",
    "b = []\n",
    "\n",
    "for row in image:\n",
    "    for pixel in row:\n",
    "        temp_r, temp_g, temp_b = pixel\n",
    "        r.append(temp_r)\n",
    "        g.append(temp_g)\n",
    "        b.append(temp_b)\n",
    "\n",
    "pixels = pd.DataFrame({'red':r,\n",
    "                       'green': g,\n",
    "                       'blue' : b})\n",
    "\n",
    "\n",
    "pixels.head()"
   ]
  },
  {
   "cell_type": "markdown",
   "id": "9c7bbba8-e152-41b1-bf09-e6efb7c62c86",
   "metadata": {},
   "source": [
    "# Color Scaling:"
   ]
  },
  {
   "cell_type": "markdown",
   "id": "359ec678-918c-406c-a8fc-42496061c4d9",
   "metadata": {},
   "source": [
    "After creating the DataFrame, this code block scales the color values to a range between 0 and 1. \n",
    "\n",
    "This scaling process is essential for normalization and comparison."
   ]
  },
  {
   "cell_type": "code",
   "execution_count": null,
   "id": "2a736542-a8e4-4416-8a29-66577b8df066",
   "metadata": {
    "scrolled": true
   },
   "outputs": [],
   "source": [
    "from sklearn.preprocessing import MinMaxScaler\n",
    "\n",
    "# Initialize the MinMaxScaler\n",
    "scaler = MinMaxScaler()\n",
    "\n",
    "# Fit and transform the 'red', 'green', and 'blue' columns\n",
    "scaled_data = scaler.fit_transform(pixels[['red', 'green', 'blue']])\n",
    "\n",
    "# Create a new DataFrame with scaled values\n",
    "scaled_pixels = pd.DataFrame(scaled_data, columns=['scaled_red', 'scaled_green', 'scaled_blue'])\n",
    "\n",
    "scaled_pixels.head()\n"
   ]
  },
  {
   "cell_type": "markdown",
   "id": "1db76057-7272-4732-9d5f-0b4c818967ce",
   "metadata": {},
   "source": [
    "# Color Clustering and Extraction:"
   ]
  },
  {
   "cell_type": "markdown",
   "id": "f792a22e-d583-4344-b4e7-ece99302bb2e",
   "metadata": {},
   "source": [
    "After scaling the colors, the code clusters them using the K-Means algorithm. \n",
    "\n",
    "In the provided code, the assumption is that we want to cluster colors into 2 groups.\n",
    "\n",
    "The cluster centers represent the dominant colors in the image. \n",
    "\n",
    "The code then extracts these cluster centers and scales them back to the original color range, considering the standard deviation of the original data and prints the extracted colors. \n",
    "\n",
    "These colors represent the dominant color clusters in the image, allowing for analysis and further processing."
   ]
  },
  {
   "cell_type": "code",
   "execution_count": 35,
   "id": "f351eeb6-1ccf-4c03-8cfb-f7f8287fc612",
   "metadata": {},
   "outputs": [
    {
     "name": "stderr",
     "output_type": "stream",
     "text": [
      "/home/ebuka/anaconda3/lib/python3.11/site-packages/sklearn/cluster/_kmeans.py:1412: FutureWarning: The default value of `n_init` will change from 10 to 'auto' in 1.4. Set the value of `n_init` explicitly to suppress the warning\n",
      "  super()._check_params_vs_input(X, default_n_init=10)\n"
     ]
    },
    {
     "name": "stdout",
     "output_type": "stream",
     "text": [
      "[(0.013371027224259133, 0.01738444658811778, 0.015985057551235082), (0.05832442277437731, 0.07794755593028334, 0.0766684422515106)]\n"
     ]
    }
   ],
   "source": [
    "from sklearn.cluster import KMeans\n",
    "\n",
    "# Fit K-Means clustering to the scaled data\n",
    "kmeans = KMeans(n_clusters=2)\n",
    "cluster_centers = kmeans.fit(scaled_pixels[['scaled_red', 'scaled_blue', 'scaled_green']]).cluster_centers_\n",
    "\n",
    "scaled_red = 'scaled_red'\n",
    "scaled_blue = 'scaled_blue'\n",
    "scaled_green = 'scaled_green'\n",
    "colors = []\n",
    "\n",
    "r_std, g_std, b_std = pixels[['red', 'green', 'blue']].std()\n",
    "\n",
    "for cluster_center in cluster_centers:\n",
    "    scaled_red, scaled_green, scaled_blue = cluster_center\n",
    "    colors.append((\n",
    "        scaled_red * r_std / 255,\n",
    "        scaled_green * g_std / 255,\n",
    "        scaled_blue * b_std / 255\n",
    "    ))\n",
    "\n",
    "print(colors)\n"
   ]
  },
  {
   "cell_type": "code",
   "execution_count": 38,
   "id": "98adf058-c665-46bb-b878-e7cf70a291ea",
   "metadata": {},
   "outputs": [
    {
     "data": {
      "image/png": "[encoded data removed]",
      "text/plain": [
       "<Figure size 640x480 with 1 Axes>"
      ]
     },
     "metadata": {},
     "output_type": "display_data"
    }
   ],
   "source": [
    "import matplotlib.pyplot as plt\n",
    "plt.imshow([colors])\n",
    "plt.savefig('colo.png')\n",
    "plt.show()"
   ]
  },
  {
   "cell_type": "markdown",
   "id": "32ebc900-86e3-46ac-a045-789fa7f67d89",
   "metadata": {},
   "source": [
    "The image above represents the dominant colors from the given image"
   ]
  },
  {
   "cell_type": "code",
   "execution_count": null,
   "id": "30002313-ea17-47aa-998d-1e2af04fd70e",
   "metadata": {},
   "outputs": [],
   "source": []
  }
 ],
 "metadata": {
  "kernelspec": {
   "display_name": "Python 3 (ipykernel)",
   "language": "python",
   "name": "python3"
  },
  "language_info": {
   "codemirror_mode": {
    "name": "ipython",
    "version": 3
   },
   "file_extension": ".py",
   "mimetype": "text/x-python",
   "name": "python",
   "nbconvert_exporter": "python",
   "pygments_lexer": "ipython3",
   "version": "3.11.3"
  }
 },
 "nbformat": 4,
 "nbformat_minor": 5
}
